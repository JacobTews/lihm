{
 "cells": [
  {
   "cell_type": "markdown",
   "id": "15f4e264-a638-4498-a6fc-8a9f18a4523f",
   "metadata": {},
   "source": [
    "# LinkedIn Hard Mode\n",
    "## Data cleaning"
   ]
  },
  {
   "cell_type": "code",
   "execution_count": 4,
   "id": "129b6c26-624e-43c4-9ad5-f1789e1dd204",
   "metadata": {},
   "outputs": [],
   "source": [
    "from matplotlib import pyplot as plt\n",
    "import numpy as np\n",
    "import pandas as pd"
   ]
  },
  {
   "cell_type": "code",
   "execution_count": 130,
   "id": "edbfab02-0a76-4252-b40d-dbb35a96ad96",
   "metadata": {},
   "outputs": [],
   "source": [
    "df = pd.read_csv('./data/LIHM post data.csv', parse_dates=['post_date'])"
   ]
  },
  {
   "cell_type": "markdown",
   "id": "6d4132c8-7a15-4513-88b0-c68099a5e506",
   "metadata": {},
   "source": [
    "* Each day column includes a string of impressions, reactions, and comments"
   ]
  },
  {
   "cell_type": "code",
   "execution_count": 131,
   "id": "290e943e-e37c-4518-a475-6c79c09f6247",
   "metadata": {},
   "outputs": [
    {
     "data": {
      "text/html": [
       "<div>\n",
       "<style scoped>\n",
       "    .dataframe tbody tr th:only-of-type {\n",
       "        vertical-align: middle;\n",
       "    }\n",
       "\n",
       "    .dataframe tbody tr th {\n",
       "        vertical-align: top;\n",
       "    }\n",
       "\n",
       "    .dataframe thead th {\n",
       "        text-align: right;\n",
       "    }\n",
       "</style>\n",
       "<table border=\"1\" class=\"dataframe\">\n",
       "  <thead>\n",
       "    <tr style=\"text-align: right;\">\n",
       "      <th></th>\n",
       "      <th>post_date</th>\n",
       "      <th>topic</th>\n",
       "      <th>word_count</th>\n",
       "      <th>n_images</th>\n",
       "      <th>top_company</th>\n",
       "      <th>top_title</th>\n",
       "      <th>day_1</th>\n",
       "      <th>day_2</th>\n",
       "      <th>day_3</th>\n",
       "      <th>day_4</th>\n",
       "      <th>...</th>\n",
       "      <th>day_21</th>\n",
       "      <th>day_22</th>\n",
       "      <th>day_23</th>\n",
       "      <th>day_24</th>\n",
       "      <th>day_25</th>\n",
       "      <th>day_26</th>\n",
       "      <th>day_27</th>\n",
       "      <th>day_28</th>\n",
       "      <th>day_29</th>\n",
       "      <th>day_30</th>\n",
       "    </tr>\n",
       "  </thead>\n",
       "  <tbody>\n",
       "    <tr>\n",
       "      <th>0</th>\n",
       "      <td>2022-01-03</td>\n",
       "      <td>beginning</td>\n",
       "      <td>396</td>\n",
       "      <td>1</td>\n",
       "      <td>US Army</td>\n",
       "      <td>software developer</td>\n",
       "      <td>2436, 21, 27</td>\n",
       "      <td>2656, 24, 27</td>\n",
       "      <td>2733, 24, 29</td>\n",
       "      <td>2770, 24, 29</td>\n",
       "      <td>...</td>\n",
       "      <td>2925, 24, 29</td>\n",
       "      <td>2932, 24, 29</td>\n",
       "      <td>2936, 24, 29</td>\n",
       "      <td>2940, 24, 29</td>\n",
       "      <td>2943, 24, 29</td>\n",
       "      <td>2949, 24, 29</td>\n",
       "      <td>2954, 24, 30</td>\n",
       "      <td>2957, 24, 30</td>\n",
       "      <td>2963, 24, 30</td>\n",
       "      <td>2966, 24, 30</td>\n",
       "    </tr>\n",
       "    <tr>\n",
       "      <th>1</th>\n",
       "      <td>2022-01-04</td>\n",
       "      <td>intro</td>\n",
       "      <td>427</td>\n",
       "      <td>0</td>\n",
       "      <td>Amazon</td>\n",
       "      <td>software developer</td>\n",
       "      <td>5381, 37, 28</td>\n",
       "      <td>6142, 44, 36</td>\n",
       "      <td>6533, 46, 36</td>\n",
       "      <td>6732, 46, 36</td>\n",
       "      <td>...</td>\n",
       "      <td>7094, 46, 37</td>\n",
       "      <td>7097, 46, 37</td>\n",
       "      <td>7099, 46, 37</td>\n",
       "      <td>7103, 46, 37</td>\n",
       "      <td>7107, 46, 37</td>\n",
       "      <td>7111, 46, 37</td>\n",
       "      <td>7115, 46, 37</td>\n",
       "      <td>7121, 46, 37</td>\n",
       "      <td>7125, 46, 37</td>\n",
       "      <td>7128, 46, 37</td>\n",
       "    </tr>\n",
       "    <tr>\n",
       "      <th>2</th>\n",
       "      <td>2022-01-05</td>\n",
       "      <td>culvers dream</td>\n",
       "      <td>560</td>\n",
       "      <td>0</td>\n",
       "      <td>VJS Construction Services, Inc.</td>\n",
       "      <td>software developer</td>\n",
       "      <td>1231, 13, 13</td>\n",
       "      <td>1297, 14, 15</td>\n",
       "      <td>1315, 14, 15</td>\n",
       "      <td>1353, 15, 15</td>\n",
       "      <td>...</td>\n",
       "      <td>1488, 15, 16</td>\n",
       "      <td>1491, 15, 16</td>\n",
       "      <td>1495, 15, 16</td>\n",
       "      <td>1499, 15, 16</td>\n",
       "      <td>1506, 15, 16</td>\n",
       "      <td>1509, 15, 16</td>\n",
       "      <td>1515, 15, 16</td>\n",
       "      <td>1518, 15, 16</td>\n",
       "      <td>NaN</td>\n",
       "      <td>1525, 15, 16</td>\n",
       "    </tr>\n",
       "    <tr>\n",
       "      <th>3</th>\n",
       "      <td>2022-01-06</td>\n",
       "      <td>practicing</td>\n",
       "      <td>491</td>\n",
       "      <td>1</td>\n",
       "      <td>Christopher Newport University</td>\n",
       "      <td>software developer</td>\n",
       "      <td>646, 14, 8</td>\n",
       "      <td>771, 18, 11</td>\n",
       "      <td>859, 18, 12</td>\n",
       "      <td>930, 20, 12</td>\n",
       "      <td>...</td>\n",
       "      <td>1085, 21, 12</td>\n",
       "      <td>1088, 21, 12</td>\n",
       "      <td>1094, 21, 12</td>\n",
       "      <td>1101, 21, 12</td>\n",
       "      <td>1103, 21, 12</td>\n",
       "      <td>1108, 21, 12</td>\n",
       "      <td>1113, 21, 12</td>\n",
       "      <td>NaN</td>\n",
       "      <td>1120, 21, 12</td>\n",
       "      <td>1126, 21, 12</td>\n",
       "    </tr>\n",
       "    <tr>\n",
       "      <th>4</th>\n",
       "      <td>2022-01-07</td>\n",
       "      <td>goal-setting 1</td>\n",
       "      <td>465</td>\n",
       "      <td>0</td>\n",
       "      <td>Christopher Newport University</td>\n",
       "      <td>data analyst</td>\n",
       "      <td>859, 10, 16</td>\n",
       "      <td>922, 10, 16</td>\n",
       "      <td>948, 10, 16</td>\n",
       "      <td>975, 11, 18</td>\n",
       "      <td>...</td>\n",
       "      <td>1124, 11, 23</td>\n",
       "      <td>1130, 11, 23</td>\n",
       "      <td>1135, 11, 23</td>\n",
       "      <td>1138, 11, 23</td>\n",
       "      <td>1142, 11, 23</td>\n",
       "      <td>1147, 11, 23</td>\n",
       "      <td>NaN</td>\n",
       "      <td>1152, 11, 23</td>\n",
       "      <td>1155, 11, 23</td>\n",
       "      <td>1158, 11, 23</td>\n",
       "    </tr>\n",
       "  </tbody>\n",
       "</table>\n",
       "<p>5 rows × 36 columns</p>\n",
       "</div>"
      ],
      "text/plain": [
       "   post_date           topic  word_count  n_images  \\\n",
       "0 2022-01-03       beginning         396         1   \n",
       "1 2022-01-04           intro         427         0   \n",
       "2 2022-01-05   culvers dream         560         0   \n",
       "3 2022-01-06      practicing         491         1   \n",
       "4 2022-01-07  goal-setting 1         465         0   \n",
       "\n",
       "                       top_company           top_title         day_1  \\\n",
       "0                          US Army  software developer  2436, 21, 27   \n",
       "1                           Amazon  software developer  5381, 37, 28   \n",
       "2  VJS Construction Services, Inc.  software developer  1231, 13, 13   \n",
       "3   Christopher Newport University  software developer    646, 14, 8   \n",
       "4   Christopher Newport University        data analyst   859, 10, 16   \n",
       "\n",
       "          day_2         day_3         day_4  ...        day_21        day_22  \\\n",
       "0  2656, 24, 27  2733, 24, 29  2770, 24, 29  ...  2925, 24, 29  2932, 24, 29   \n",
       "1  6142, 44, 36  6533, 46, 36  6732, 46, 36  ...  7094, 46, 37  7097, 46, 37   \n",
       "2  1297, 14, 15  1315, 14, 15  1353, 15, 15  ...  1488, 15, 16  1491, 15, 16   \n",
       "3   771, 18, 11   859, 18, 12   930, 20, 12  ...  1085, 21, 12  1088, 21, 12   \n",
       "4   922, 10, 16   948, 10, 16   975, 11, 18  ...  1124, 11, 23  1130, 11, 23   \n",
       "\n",
       "         day_23        day_24        day_25        day_26        day_27  \\\n",
       "0  2936, 24, 29  2940, 24, 29  2943, 24, 29  2949, 24, 29  2954, 24, 30   \n",
       "1  7099, 46, 37  7103, 46, 37  7107, 46, 37  7111, 46, 37  7115, 46, 37   \n",
       "2  1495, 15, 16  1499, 15, 16  1506, 15, 16  1509, 15, 16  1515, 15, 16   \n",
       "3  1094, 21, 12  1101, 21, 12  1103, 21, 12  1108, 21, 12  1113, 21, 12   \n",
       "4  1135, 11, 23  1138, 11, 23  1142, 11, 23  1147, 11, 23           NaN   \n",
       "\n",
       "         day_28        day_29        day_30  \n",
       "0  2957, 24, 30  2963, 24, 30  2966, 24, 30  \n",
       "1  7121, 46, 37  7125, 46, 37  7128, 46, 37  \n",
       "2  1518, 15, 16           NaN  1525, 15, 16  \n",
       "3           NaN  1120, 21, 12  1126, 21, 12  \n",
       "4  1152, 11, 23  1155, 11, 23  1158, 11, 23  \n",
       "\n",
       "[5 rows x 36 columns]"
      ]
     },
     "execution_count": 131,
     "metadata": {},
     "output_type": "execute_result"
    }
   ],
   "source": [
    "df.head()"
   ]
  },
  {
   "cell_type": "markdown",
   "id": "5c722ccc-b5bb-4940-9646-3786d0200fff",
   "metadata": {},
   "source": [
    "### First, deal with nulls\n",
    "* Since this data has a temporal component, whenever possible we need to impute the last known truth value."
   ]
  },
  {
   "cell_type": "code",
   "execution_count": 134,
   "id": "7d946a5f-230a-4ccd-8669-da34bc65449a",
   "metadata": {},
   "outputs": [],
   "source": [
    "df.loc[:, 'day_1':'day_30'] = df.loc[:, 'day_1':'day_30'].fillna(method='pad', axis=1)"
   ]
  },
  {
   "cell_type": "markdown",
   "id": "4ad05de6-e118-44b6-991b-d7f54f7969ef",
   "metadata": {},
   "source": [
    "* After doing that, we are left with two nulls, days where I missed the first day of recording data.\n",
    "* Since it's a small dataset, I'll impute manually, by using the trend of a similarly-performing post to estimate what day_1 would have been."
   ]
  },
  {
   "cell_type": "code",
   "execution_count": 135,
   "id": "9584f8bb-5e83-468e-9b3a-1cb87d9c23ef",
   "metadata": {},
   "outputs": [
    {
     "data": {
      "text/html": [
       "<div>\n",
       "<style scoped>\n",
       "    .dataframe tbody tr th:only-of-type {\n",
       "        vertical-align: middle;\n",
       "    }\n",
       "\n",
       "    .dataframe tbody tr th {\n",
       "        vertical-align: top;\n",
       "    }\n",
       "\n",
       "    .dataframe thead th {\n",
       "        text-align: right;\n",
       "    }\n",
       "</style>\n",
       "<table border=\"1\" class=\"dataframe\">\n",
       "  <thead>\n",
       "    <tr style=\"text-align: right;\">\n",
       "      <th></th>\n",
       "      <th>post_date</th>\n",
       "      <th>topic</th>\n",
       "      <th>word_count</th>\n",
       "      <th>n_images</th>\n",
       "      <th>top_company</th>\n",
       "      <th>top_title</th>\n",
       "      <th>day_1</th>\n",
       "      <th>day_2</th>\n",
       "      <th>day_3</th>\n",
       "      <th>day_4</th>\n",
       "      <th>...</th>\n",
       "      <th>day_21</th>\n",
       "      <th>day_22</th>\n",
       "      <th>day_23</th>\n",
       "      <th>day_24</th>\n",
       "      <th>day_25</th>\n",
       "      <th>day_26</th>\n",
       "      <th>day_27</th>\n",
       "      <th>day_28</th>\n",
       "      <th>day_29</th>\n",
       "      <th>day_30</th>\n",
       "    </tr>\n",
       "  </thead>\n",
       "  <tbody>\n",
       "    <tr>\n",
       "      <th>9</th>\n",
       "      <td>2022-01-12</td>\n",
       "      <td>contentment</td>\n",
       "      <td>516</td>\n",
       "      <td>0</td>\n",
       "      <td>Prudential Financial</td>\n",
       "      <td>software developer</td>\n",
       "      <td>NaN</td>\n",
       "      <td>602, 8, 9</td>\n",
       "      <td>602, 8, 9</td>\n",
       "      <td>731, 9, 9</td>\n",
       "      <td>...</td>\n",
       "      <td>1078, 11, 9</td>\n",
       "      <td>1078, 11, 9</td>\n",
       "      <td>1082, 11, 9</td>\n",
       "      <td>1086, 11, 9</td>\n",
       "      <td>1089, 11, 9</td>\n",
       "      <td>1091, 11, 9</td>\n",
       "      <td>1096, 11, 9</td>\n",
       "      <td>1099, 11, 9</td>\n",
       "      <td>1102, 11, 9</td>\n",
       "      <td>1102, 11, 9</td>\n",
       "    </tr>\n",
       "    <tr>\n",
       "      <th>11</th>\n",
       "      <td>2022-01-14</td>\n",
       "      <td>debugging</td>\n",
       "      <td>255</td>\n",
       "      <td>0</td>\n",
       "      <td>Ramsey Solutions</td>\n",
       "      <td>software developer</td>\n",
       "      <td>NaN</td>\n",
       "      <td>582, 7, 3</td>\n",
       "      <td>602, 7, 3</td>\n",
       "      <td>650, 7, 3</td>\n",
       "      <td>...</td>\n",
       "      <td>806, 7, 6</td>\n",
       "      <td>810, 7, 6</td>\n",
       "      <td>813, 7, 6</td>\n",
       "      <td>816, 7, 6</td>\n",
       "      <td>821, 7, 6</td>\n",
       "      <td>827, 7, 6</td>\n",
       "      <td>830, 7, 6</td>\n",
       "      <td>830, 7, 6</td>\n",
       "      <td>837, 7, 6</td>\n",
       "      <td>840, 7, 6</td>\n",
       "    </tr>\n",
       "  </tbody>\n",
       "</table>\n",
       "<p>2 rows × 36 columns</p>\n",
       "</div>"
      ],
      "text/plain": [
       "    post_date        topic  word_count  n_images           top_company  \\\n",
       "9  2022-01-12  contentment         516         0  Prudential Financial   \n",
       "11 2022-01-14    debugging         255         0      Ramsey Solutions   \n",
       "\n",
       "             top_title day_1      day_2      day_3      day_4  ...  \\\n",
       "9   software developer   NaN  602, 8, 9  602, 8, 9  731, 9, 9  ...   \n",
       "11  software developer   NaN  582, 7, 3  602, 7, 3  650, 7, 3  ...   \n",
       "\n",
       "         day_21       day_22       day_23       day_24       day_25  \\\n",
       "9   1078, 11, 9  1078, 11, 9  1082, 11, 9  1086, 11, 9  1089, 11, 9   \n",
       "11    806, 7, 6    810, 7, 6    813, 7, 6    816, 7, 6    821, 7, 6   \n",
       "\n",
       "         day_26       day_27       day_28       day_29       day_30  \n",
       "9   1091, 11, 9  1096, 11, 9  1099, 11, 9  1102, 11, 9  1102, 11, 9  \n",
       "11    827, 7, 6    830, 7, 6    830, 7, 6    837, 7, 6    840, 7, 6  \n",
       "\n",
       "[2 rows x 36 columns]"
      ]
     },
     "execution_count": 135,
     "metadata": {},
     "output_type": "execute_result"
    }
   ],
   "source": [
    "df[df['day_1'].isna()]"
   ]
  },
  {
   "cell_type": "markdown",
   "id": "6c33f772-3da5-4123-807e-e0a45ecbe8a5",
   "metadata": {},
   "source": [
    "* For the post on 01.12, I will use as a comparison the post from 01.09, which had 639, 7, 10 on day_2 and 552, 6, 7 on day_1\n",
    "* For the post on 01.14, I will use as a comparison the post from 01.20, which had 554, 8, 11 on day_2 and 490, 8, 9 on day_1"
   ]
  },
  {
   "cell_type": "code",
   "execution_count": 136,
   "id": "7cf7783c-0ae7-4a48-a8d6-a49ec1e160f5",
   "metadata": {},
   "outputs": [],
   "source": [
    "to_impute_0112 = f'{int(602 * (552/639))}, {int(8 * (6/7))}, {int(9 * (7/10))}'\n",
    "to_impute_0114 = f'{int(582 * (490/554))}, {int(7 * (8/8))}, {int(3 * (9/11))}'"
   ]
  },
  {
   "cell_type": "code",
   "execution_count": 137,
   "id": "2cb4636e-a0ff-4e2d-84b5-bd68aab4db64",
   "metadata": {},
   "outputs": [],
   "source": [
    "df.loc[9, 'day_1'] = to_impute_0112\n",
    "df.loc[11, 'day_1'] = to_impute_0114"
   ]
  },
  {
   "cell_type": "markdown",
   "id": "55baa379-fa7e-4fd3-b5ef-87b062d163f5",
   "metadata": {},
   "source": [
    "### Splitting data into more columns!"
   ]
  },
  {
   "cell_type": "markdown",
   "id": "dc8ba2be-b4ff-4661-a757-4ef3a84e9c31",
   "metadata": {},
   "source": [
    "* Each of the cells with engagement data is a string with 3 values, so they need to be split and turned to ints"
   ]
  },
  {
   "cell_type": "code",
   "execution_count": 138,
   "id": "8cd6cf19-c5cf-4c6a-83d3-0d734558b0dd",
   "metadata": {},
   "outputs": [
    {
     "name": "stdout",
     "output_type": "stream",
     "text": [
      "Wall time: 55.5 ms\n"
     ]
    }
   ],
   "source": [
    "%%time\n",
    "for i in range(1, 31):\n",
    "    col_name = f'day_{i}'\n",
    "    df[col_name + '_imp'] = df[col_name].apply(lambda x: int(x.split(', ')[0]))\n",
    "    df[col_name + '_reax'] = df[col_name].apply(lambda x: int(x.split(', ')[1]))\n",
    "    df[col_name + '_comm'] = df[col_name].apply(lambda x: int(x.split(', ')[2]))\n",
    "    df = df.drop(col_name, axis=1)"
   ]
  },
  {
   "cell_type": "markdown",
   "id": "c896952c-5468-41b5-9336-6a8916dadc78",
   "metadata": {},
   "source": [
    "### Save the cleaned dataset as a CSV for Tableau"
   ]
  },
  {
   "cell_type": "code",
   "execution_count": 142,
   "id": "317261af-ca27-4703-b71f-cfcbc974867d",
   "metadata": {},
   "outputs": [],
   "source": [
    "df.to_csv('./data/cleaned_dataset.csv', index=False)"
   ]
  }
 ],
 "metadata": {
  "kernelspec": {
   "display_name": "Python 3",
   "language": "python",
   "name": "python3"
  },
  "language_info": {
   "codemirror_mode": {
    "name": "ipython",
    "version": 3
   },
   "file_extension": ".py",
   "mimetype": "text/x-python",
   "name": "python",
   "nbconvert_exporter": "python",
   "pygments_lexer": "ipython3",
   "version": "3.9.7"
  }
 },
 "nbformat": 4,
 "nbformat_minor": 5
}
