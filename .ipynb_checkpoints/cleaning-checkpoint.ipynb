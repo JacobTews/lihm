{
 "cells": [
  {
   "cell_type": "markdown",
   "id": "15f4e264-a638-4498-a6fc-8a9f18a4523f",
   "metadata": {},
   "source": [
    "# LinkedIn Hard Mode\n",
    "## Data cleaning"
   ]
  },
  {
   "cell_type": "code",
   "execution_count": 4,
   "id": "129b6c26-624e-43c4-9ad5-f1789e1dd204",
   "metadata": {},
   "outputs": [],
   "source": [
    "from matplotlib import pyplot as plt\n",
    "import numpy as np\n",
    "import pandas as pd"
   ]
  },
  {
   "cell_type": "code",
   "execution_count": 6,
   "id": "edbfab02-0a76-4252-b40d-dbb35a96ad96",
   "metadata": {},
   "outputs": [],
   "source": [
    "df = pd.read_csv('./data/LIHM post data.csv')"
   ]
  },
  {
   "cell_type": "code",
   "execution_count": 8,
   "id": "5ebc71a0-5d54-43e9-88fd-2123fd5346e4",
   "metadata": {},
   "outputs": [],
   "source": [
    "first_stats = df.loc[0, 'day_1']"
   ]
  },
  {
   "cell_type": "code",
   "execution_count": 19,
   "id": "5f972613-9bed-4238-b564-0e8a9765392c",
   "metadata": {},
   "outputs": [],
   "source": [
    "stats_lst = [int(x.strip()) for x in first_stats.split(',')]"
   ]
  },
  {
   "cell_type": "code",
   "execution_count": 20,
   "id": "8b9fa556-c6a7-439f-ad41-91eebd644867",
   "metadata": {},
   "outputs": [
    {
     "data": {
      "text/plain": [
       "[2436, 21, 27]"
      ]
     },
     "execution_count": 20,
     "metadata": {},
     "output_type": "execute_result"
    }
   ],
   "source": [
    "stats_lst"
   ]
  }
 ],
 "metadata": {
  "kernelspec": {
   "display_name": "Python 3",
   "language": "python",
   "name": "python3"
  },
  "language_info": {
   "codemirror_mode": {
    "name": "ipython",
    "version": 3
   },
   "file_extension": ".py",
   "mimetype": "text/x-python",
   "name": "python",
   "nbconvert_exporter": "python",
   "pygments_lexer": "ipython3",
   "version": "3.9.7"
  }
 },
 "nbformat": 4,
 "nbformat_minor": 5
}
